{
 "cells": [
  {
   "cell_type": "code",
   "execution_count": 1,
   "metadata": {},
   "outputs": [],
   "source": [
    "import os\n",
    "import numpy as np\n",
    "import pandas as pd\n",
    "import re"
   ]
  },
  {
   "cell_type": "code",
   "execution_count": 2,
   "metadata": {},
   "outputs": [],
   "source": [
    "# cwd = r'C:\\apps\\mtc\\travel-model-two\\model-files\\model'\n",
    "cwd = '/Users/chesterharvey/apps/mtc/travel-model-two/model-files/model'"
   ]
  },
  {
   "cell_type": "code",
   "execution_count": 3,
   "metadata": {},
   "outputs": [],
   "source": [
    "uec = pd.read_excel(os.path.join(cwd, 'AutoOwnership.xls'), engine='xlrd', sheet_name='Auto Ownership', skiprows=3)"
   ]
  },
  {
   "cell_type": "code",
   "execution_count": 4,
   "metadata": {},
   "outputs": [],
   "source": [
    "# Label front columns\n",
    "labeling = {\n",
    "    'Unnamed: 0': 'uec_id',\n",
    "    'Unnamed: 1': 'token',\n",
    "    'Unnamed: 2': 'Description',\n",
    "    'Unnamed: 3': 'filter',\n",
    "    'Unnamed: 4': 'formula',\n",
    "    'Unnamed: 5': 'index'\n",
    "}\n",
    "uec = uec.rename(columns=labeling)\n",
    "\n",
    "# Convert cells that are fully whitespace to NaN\n",
    "uec = uec.replace(r'^\\s*$', np.nan, regex=True)\n",
    "\n",
    "# Drop all lines that are entirely NaN\n",
    "uec = uec.dropna(how='all')"
   ]
  },
  {
   "cell_type": "code",
   "execution_count": 5,
   "metadata": {},
   "outputs": [],
   "source": [
    "# Remove formulas that equal 1--it's implied\n",
    "uec.loc[uec['formula'] == 1, 'formula'] = np.nan"
   ]
  },
  {
   "cell_type": "code",
   "execution_count": 6,
   "metadata": {},
   "outputs": [],
   "source": [
    " # Make sure filter and formula are strings\n",
    "uec[['filter', 'formula']] = uec[['filter', 'formula']].astype(str)"
   ]
  },
  {
   "cell_type": "code",
   "execution_count": 7,
   "metadata": {},
   "outputs": [
    {
     "data": {
      "text/plain": [
       "['0_CARS',\n",
       " '1_CAR_1CV',\n",
       " '1_CAR_1AV',\n",
       " '2_CARS_2CV',\n",
       " '2_CARS_2AV',\n",
       " '2_CARS_1CV1AV',\n",
       " '3_CARS_3CV',\n",
       " '3_CARS_3AV',\n",
       " '3_CARS_2CV1AV',\n",
       " '3_CARS_1CV2AV',\n",
       " '4_CARS_4CV']"
      ]
     },
     "execution_count": 7,
     "metadata": {},
     "output_type": "execute_result"
    }
   ],
   "source": [
    "# Identify coefficient columns\n",
    "coeff_columns = [col for col in uec.columns if col not in labeling.values()]\n",
    "coeff_columns"
   ]
  },
  {
   "cell_type": "code",
   "execution_count": 8,
   "metadata": {},
   "outputs": [
    {
     "data": {
      "text/plain": [
       "0                         nest0\n",
       "1                         nest1\n",
       "2                         nest2\n",
       "3                    nestCoeff0\n",
       "4                    nestCoeff1\n",
       "5                    nestCoeff2\n",
       "8            useAccessibilities\n",
       "9     nonMotorizedAccessibility\n",
       "10                   autoAccess\n",
       "11                transitAccess\n",
       "12        workersAutoDependency\n",
       "13       studentsAutoDependency\n",
       "14        workersRailProportion\n",
       "15       studentsRailProportion\n",
       "16          intersectionDensity\n",
       "17            populationDensity\n",
       "18                retailDensity\n",
       "19                      drivers\n",
       "20                    ftWorkers\n",
       "21                    ptWorkers\n",
       "22                      workers\n",
       "23                  youngAdults\n",
       "24               schoolChildren\n",
       "25                  oldRetirees\n",
       "26                youngRetirees\n",
       "27                     HHIncome\n",
       "28    highSchoolGraduateBoolean\n",
       "29      detachedDwellingBoolean\n",
       "30                    hhBoolean\n",
       "31                         SFID\n",
       "32                   hhCountyId\n",
       "33                    nonFamily\n",
       "Name: token, dtype: object"
      ]
     },
     "execution_count": 8,
     "metadata": {},
     "output_type": "execute_result"
    }
   ],
   "source": [
    "# List tokens, which should be defined from household table\n",
    "uec[uec['token'].notnull()].token"
   ]
  },
  {
   "cell_type": "code",
   "execution_count": 9,
   "metadata": {},
   "outputs": [],
   "source": [
    "# Identify utilities as rows that don't have tokens (which are precalculated aliases)\n",
    "utilities = uec[uec['token'].isnull()].copy()"
   ]
  },
  {
   "cell_type": "code",
   "execution_count": 10,
   "metadata": {},
   "outputs": [],
   "source": [
    "def build_expression(filt, formula):\n",
    "    if filt != 'nan' and formula != 'nan':\n",
    "        return f'({filt}) * ({formula})'\n",
    "    \n",
    "    if filt != 'nan':\n",
    "        return filt\n",
    "     \n",
    "    return formula\n",
    "\n",
    "# Take product of filter and formula to make expressions\n",
    "utilities['Expression'] = utilities.apply(lambda x: build_expression(x['filter'], x['formula']), axis=1)"
   ]
  },
  {
   "cell_type": "code",
   "execution_count": 11,
   "metadata": {},
   "outputs": [],
   "source": [
    "def parse_if_to_where(expression):\n",
    "    if expression[:3] == 'where(':\n",
    "        expression = expression.replace('if', 'np.where')\n",
    "        expression = expression.split(',')[0]\n",
    "    return expression\n",
    "\n",
    "# Parse if statements\n",
    "utilities['Expression'] = utilities.Expression.apply(parse_if)"
   ]
  },
  {
   "cell_type": "code",
   "execution_count": 12,
   "metadata": {},
   "outputs": [
    {
     "data": {
      "text/html": [
       "<div>\n",
       "<style scoped>\n",
       "    .dataframe tbody tr th:only-of-type {\n",
       "        vertical-align: middle;\n",
       "    }\n",
       "\n",
       "    .dataframe tbody tr th {\n",
       "        vertical-align: top;\n",
       "    }\n",
       "\n",
       "    .dataframe thead th {\n",
       "        text-align: right;\n",
       "    }\n",
       "</style>\n",
       "<table border=\"1\" class=\"dataframe\">\n",
       "  <thead>\n",
       "    <tr style=\"text-align: right;\">\n",
       "      <th></th>\n",
       "      <th>filter</th>\n",
       "      <th>formula</th>\n",
       "      <th>Expression</th>\n",
       "    </tr>\n",
       "  </thead>\n",
       "  <tbody>\n",
       "    <tr>\n",
       "      <th>34</th>\n",
       "      <td>nan</td>\n",
       "      <td>if(hhCountyId == SFID, 1, 0)</td>\n",
       "      <td>hhCountyId == SFID</td>\n",
       "    </tr>\n",
       "    <tr>\n",
       "      <th>35</th>\n",
       "      <td>drivers==1</td>\n",
       "      <td>nan</td>\n",
       "      <td>drivers==1</td>\n",
       "    </tr>\n",
       "    <tr>\n",
       "      <th>36</th>\n",
       "      <td>drivers==2</td>\n",
       "      <td>nan</td>\n",
       "      <td>drivers==2</td>\n",
       "    </tr>\n",
       "    <tr>\n",
       "      <th>37</th>\n",
       "      <td>drivers==3</td>\n",
       "      <td>nan</td>\n",
       "      <td>drivers==3</td>\n",
       "    </tr>\n",
       "    <tr>\n",
       "      <th>38</th>\n",
       "      <td>drivers&gt;=4</td>\n",
       "      <td>nan</td>\n",
       "      <td>drivers&gt;=4</td>\n",
       "    </tr>\n",
       "    <tr>\n",
       "      <th>...</th>\n",
       "      <td>...</td>\n",
       "      <td>...</td>\n",
       "      <td>...</td>\n",
       "    </tr>\n",
       "    <tr>\n",
       "      <th>93</th>\n",
       "      <td>nan</td>\n",
       "      <td>%Mobility.AV.Share%==1.0</td>\n",
       "      <td>%Mobility.AV.Share%==1.0</td>\n",
       "    </tr>\n",
       "    <tr>\n",
       "      <th>94</th>\n",
       "      <td>nan</td>\n",
       "      <td>%Mobility.AV.Share%==0.9</td>\n",
       "      <td>%Mobility.AV.Share%==0.9</td>\n",
       "    </tr>\n",
       "    <tr>\n",
       "      <th>95</th>\n",
       "      <td>nan</td>\n",
       "      <td>%Mobility.AV.Share%==0.5</td>\n",
       "      <td>%Mobility.AV.Share%==0.5</td>\n",
       "    </tr>\n",
       "    <tr>\n",
       "      <th>96</th>\n",
       "      <td>nan</td>\n",
       "      <td>%Mobility.AV.Share%==0.1</td>\n",
       "      <td>%Mobility.AV.Share%==0.1</td>\n",
       "    </tr>\n",
       "    <tr>\n",
       "      <th>97</th>\n",
       "      <td>nan</td>\n",
       "      <td>%Mobility.AV.Share%==0.0</td>\n",
       "      <td>%Mobility.AV.Share%==0.0</td>\n",
       "    </tr>\n",
       "  </tbody>\n",
       "</table>\n",
       "<p>64 rows × 3 columns</p>\n",
       "</div>"
      ],
      "text/plain": [
       "        filter                       formula                Expression\n",
       "34         nan  if(hhCountyId == SFID, 1, 0)        hhCountyId == SFID\n",
       "35  drivers==1                           nan                drivers==1\n",
       "36  drivers==2                           nan                drivers==2\n",
       "37  drivers==3                           nan                drivers==3\n",
       "38  drivers>=4                           nan                drivers>=4\n",
       "..         ...                           ...                       ...\n",
       "93         nan      %Mobility.AV.Share%==1.0  %Mobility.AV.Share%==1.0\n",
       "94         nan      %Mobility.AV.Share%==0.9  %Mobility.AV.Share%==0.9\n",
       "95         nan      %Mobility.AV.Share%==0.5  %Mobility.AV.Share%==0.5\n",
       "96         nan      %Mobility.AV.Share%==0.1  %Mobility.AV.Share%==0.1\n",
       "97         nan      %Mobility.AV.Share%==0.0  %Mobility.AV.Share%==0.0\n",
       "\n",
       "[64 rows x 3 columns]"
      ]
     },
     "execution_count": 12,
     "metadata": {},
     "output_type": "execute_result"
    }
   ],
   "source": [
    "utilities[['filter','formula','Expression']]"
   ]
  },
  {
   "cell_type": "code",
   "execution_count": 13,
   "metadata": {},
   "outputs": [],
   "source": [
    "refactor_lookup = {\n",
    "    'hhCountyId': '@df.county_id',\n",
    "    'SFID': 'ID_SAN_FRANCISCO',\n",
    "    'drivers': 'num_drivers',\n",
    "    'workers': 'num_workers',\n",
    "    'youngAdults': 'num_young_adults',\n",
    "    'schoolChildren': 'num_children_6_to_15',\n",
    "    'youngRetirees': 'num_young_retirees',\n",
    "    'oldRetirees': 'num_old_retirees',\n",
    "    'HHIncome': 'income',\n",
    "    'highSchoolGraduateBoolean': '#######',\n",
    "    'detachedDwellingBoolean': '#######',\n",
    "    'intersectionDensity': '#######', # Need to get from land use\n",
    "    'populationDensity': '#######', # Need to get from land use,\n",
    "    'retailDensity': '#######', # Need to get from land use,\n",
    "    'nonMotorizedAccessibility': '#######', # Does this only come into play on a second iteration?\n",
    "    'autoAccess': '#######', # Does this only come into play on a second iteration?\n",
    "    'transitAccess': '#######', # Does this only come into play on a second iteration?\n",
    "    'useAccessibilities': '#######', # Does this only come into play on a second iteration?\n",
    "    'workersAutoDependency': '#######', # Does this only come into play on a second iteration?\n",
    "    'studentsAutoDependency': '#######', # Does this only come into play on a second iteration?\n",
    "    'workersRailProportion': '#######', # Does this only come into play on a second iteration?\n",
    "    'studentsRailProportion': '#######', # Does this only come into play on a second iteration?\n",
    "    'hhBoolean': '#######', ### Not sure what this is\n",
    "    'nonFamily': 'non_family',\n",
    "    '@workAutoTime': '#######', # Where does this come from?\n",
    "    '@numPersons18to35': 'num_persons_18_to_35',\n",
    "    '@numPersons65plus': 'num_persons_65_plus',\n",
    "    '%Mobility.AV.Share%': '#######', # Needs to get from settings\n",
    "}"
   ]
  },
  {
   "cell_type": "code",
   "execution_count": 14,
   "metadata": {},
   "outputs": [],
   "source": [
    "def refactor(expression):\n",
    "    for old, new in refactor_lookup.items():\n",
    "        if old in expression:\n",
    "            # If the new value is not yet known (marked as '#######')\n",
    "            if bool(re.match(r'^#*$', new)):\n",
    "                # Mark and return the existing value\n",
    "                expression = expression.replace(old, f'##{old}##')\n",
    "            else:\n",
    "                # Otherwise replace old with new\n",
    "                expression = expression.replace(old, new)\n",
    "    return expression\n",
    "\n",
    "utilities.Expression = utilities.Expression.apply(refactor)"
   ]
  },
  {
   "cell_type": "code",
   "execution_count": 15,
   "metadata": {},
   "outputs": [],
   "source": [
    "utilities['Label'] = ''\n",
    "utilities = utilities[['Label', 'Description', 'Expression'] + coeff_columns].copy()"
   ]
  },
  {
   "cell_type": "code",
   "execution_count": 16,
   "metadata": {},
   "outputs": [],
   "source": [
    "utilities.to_csv('auto_ownership_interim.csv', index=False)"
   ]
  },
  {
   "cell_type": "code",
   "execution_count": null,
   "metadata": {},
   "outputs": [],
   "source": [
    "# utilities.to_csv('utilities.csv')\n",
    "# utilities[['filter','formula']].head()\n",
    "# parse_if('if(hhCountyId == SFID, 1, 0)')"
   ]
  },
  {
   "cell_type": "code",
   "execution_count": null,
   "metadata": {},
   "outputs": [],
   "source": [
    "households = pd.read_csv('households.csv')"
   ]
  },
  {
   "cell_type": "code",
   "execution_count": null,
   "metadata": {},
   "outputs": [],
   "source": [
    "households.head()"
   ]
  },
  {
   "cell_type": "code",
   "execution_count": null,
   "metadata": {},
   "outputs": [],
   "source": [
    "households.PERSONS"
   ]
  },
  {
   "cell_type": "code",
   "execution_count": null,
   "metadata": {},
   "outputs": [],
   "source": [
    "households.eval('(PERSONS == 2) * (PERSONS/HHT)')"
   ]
  },
  {
   "cell_type": "code",
   "execution_count": null,
   "metadata": {},
   "outputs": [],
   "source": [
    "utilities.head()"
   ]
  },
  {
   "cell_type": "markdown",
   "metadata": {},
   "source": [
    "# RELOAD EXPORTED FILE WITH 'LABEL' FILLED IN"
   ]
  },
  {
   "cell_type": "code",
   "execution_count": null,
   "metadata": {
    "scrolled": true
   },
   "outputs": [],
   "source": [
    "utils = pd.read_csv('auto_ownership_interim.csv')\n",
    "utils[coeff_columns] = utils[coeff_columns].fillna(0)"
   ]
  },
  {
   "cell_type": "code",
   "execution_count": null,
   "metadata": {},
   "outputs": [],
   "source": [
    "utils"
   ]
  },
  {
   "cell_type": "code",
   "execution_count": null,
   "metadata": {},
   "outputs": [],
   "source": [
    "utils.eval('\"0_CARS\" + \"1_CAR_1CV\"')"
   ]
  },
  {
   "cell_type": "code",
   "execution_count": null,
   "metadata": {},
   "outputs": [],
   "source": [
    "# for col in coeff_columns:\n",
    "#     for x,y in tuple(zip(utils['Label'], utils[col])):\n",
    "#         break"
   ]
  },
  {
   "cell_type": "code",
   "execution_count": null,
   "metadata": {},
   "outputs": [],
   "source": [
    "utils.Label = utils.Label.fillna('')"
   ]
  },
  {
   "cell_type": "code",
   "execution_count": null,
   "metadata": {
    "scrolled": true
   },
   "outputs": [],
   "source": [
    "coeff_values = [(x + '_O_CARS', y) for col in coeff_columns for x,y in tuple(zip(utils['Label'], utils[col]))]\n",
    "coeff_values = pd.DataFrame(coeff_values, columns=['coefficient_name', 'value'])\n",
    "coeff_values['constrain'] = 'F'\n",
    "coeff_values.head()"
   ]
  },
  {
   "cell_type": "code",
   "execution_count": null,
   "metadata": {
    "scrolled": true
   },
   "outputs": [],
   "source": [
    "for col in coeff_columns:\n",
    "    utils[col] = utils['Label'] + '_' + col\n",
    "\n",
    "# utils.to_csv('auto_ownership_file.csv')\n",
    "# coeff_values.to_csv('auto_ownership_coefficients.csv')\n",
    "utils.head()"
   ]
  },
  {
   "cell_type": "code",
   "execution_count": null,
   "metadata": {},
   "outputs": [],
   "source": [
    "utils"
   ]
  },
  {
   "cell_type": "code",
   "execution_count": null,
   "metadata": {},
   "outputs": [],
   "source": []
  }
 ],
 "metadata": {
  "kernelspec": {
   "display_name": "Python 3 (ipykernel)",
   "language": "python",
   "name": "python3"
  },
  "language_info": {
   "codemirror_mode": {
    "name": "ipython",
    "version": 3
   },
   "file_extension": ".py",
   "mimetype": "text/x-python",
   "name": "python",
   "nbconvert_exporter": "python",
   "pygments_lexer": "ipython3",
   "version": "3.9.9"
  }
 },
 "nbformat": 4,
 "nbformat_minor": 4
}
